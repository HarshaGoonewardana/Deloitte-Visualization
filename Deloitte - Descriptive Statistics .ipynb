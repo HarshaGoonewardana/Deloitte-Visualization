{
 "cells": [
  {
   "cell_type": "code",
   "execution_count": 1,
   "metadata": {},
   "outputs": [],
   "source": [
    "# Imports \n",
    "import pandas as pd\n",
    "import numpy as np\n",
    "import seaborn as sns\n",
    "import matplotlib.pyplot as plt\n",
    "import pickle\n",
    "import warnings \n",
    "warnings.filterwarnings('ignore')"
   ]
  },
  {
   "cell_type": "code",
   "execution_count": 2,
   "metadata": {},
   "outputs": [],
   "source": [
    "#import data\n",
    "df_m = pd.read_pickle('male.pkl')\n",
    "df_f = pd.read_pickle('female.pkl')\n",
    "df_total =pd.read_pickle('total.pkl')"
   ]
  },
  {
   "cell_type": "code",
   "execution_count": 3,
   "metadata": {},
   "outputs": [
    {
     "data": {
      "text/plain": [
       "Index(['Place', 'Div/Tot', 'Number', 'Name', 'Age', 'Hometown', 'Gun Tim',\n",
       "       'Net Tim', 'Pace', 'Division', 'Gun_Time', 'Net_Time', 'Net_Time1',\n",
       "       'Gun_Time1', 'Gun_Net_Diff', 'Div', 'Total_Racers', 'Gender'],\n",
       "      dtype='object')"
      ]
     },
     "execution_count": 3,
     "metadata": {},
     "output_type": "execute_result"
    }
   ],
   "source": [
    "#conduct quick check on the dataframe\n",
    "df_total.sample(5)\n",
    "\n",
    "df_total.isnull().sum().sum()\n",
    "\n",
    "df_total.columns"
   ]
  },
  {
   "cell_type": "code",
   "execution_count": 4,
   "metadata": {},
   "outputs": [],
   "source": [
    "# subset a dataframe for time analysis \n",
    "df_time = df_total[['Place','Number','Name','Age','Hometown','Pace','Net_Time1', 'Gun_Time1',\n",
    "       'Gun_Net_Diff', 'Division','Gender']]"
   ]
  },
  {
   "cell_type": "code",
   "execution_count": 5,
   "metadata": {},
   "outputs": [
    {
     "data": {
      "text/html": [
       "<div>\n",
       "<style scoped>\n",
       "    .dataframe tbody tr th:only-of-type {\n",
       "        vertical-align: middle;\n",
       "    }\n",
       "\n",
       "    .dataframe tbody tr th {\n",
       "        vertical-align: top;\n",
       "    }\n",
       "\n",
       "    .dataframe thead th {\n",
       "        text-align: right;\n",
       "    }\n",
       "</style>\n",
       "<table border=\"1\" class=\"dataframe\">\n",
       "  <thead>\n",
       "    <tr style=\"text-align: right;\">\n",
       "      <th></th>\n",
       "      <th>Place</th>\n",
       "      <th>Number</th>\n",
       "      <th>Name</th>\n",
       "      <th>Age</th>\n",
       "      <th>Hometown</th>\n",
       "      <th>Pace</th>\n",
       "      <th>Net_Time1</th>\n",
       "      <th>Gun_Time1</th>\n",
       "      <th>Gun_Net_Diff</th>\n",
       "      <th>Division</th>\n",
       "      <th>Gender</th>\n",
       "      <th>g_hour</th>\n",
       "      <th>g_minute</th>\n",
       "      <th>g_second</th>\n",
       "      <th>n_hour</th>\n",
       "      <th>n_minute</th>\n",
       "      <th>n_second</th>\n",
       "    </tr>\n",
       "  </thead>\n",
       "  <tbody>\n",
       "    <tr>\n",
       "      <th>366</th>\n",
       "      <td>824</td>\n",
       "      <td>3279</td>\n",
       "      <td>Josephine Bouquet</td>\n",
       "      <td>14.0</td>\n",
       "      <td>Potomac MD</td>\n",
       "      <td>10.14</td>\n",
       "      <td>1900-01-01 01:03:31</td>\n",
       "      <td>1900-01-01 01:07:22</td>\n",
       "      <td>00:03:51</td>\n",
       "      <td>14 or less</td>\n",
       "      <td>female</td>\n",
       "      <td>1</td>\n",
       "      <td>7</td>\n",
       "      <td>22</td>\n",
       "      <td>1</td>\n",
       "      <td>3</td>\n",
       "      <td>31</td>\n",
       "    </tr>\n",
       "    <tr>\n",
       "      <th>1170</th>\n",
       "      <td>1171</td>\n",
       "      <td>2479</td>\n",
       "      <td>Neil Small</td>\n",
       "      <td>64.0</td>\n",
       "      <td>Fairfax VA</td>\n",
       "      <td>10.37</td>\n",
       "      <td>1900-01-01 01:05:58</td>\n",
       "      <td>1900-01-01 01:09:50</td>\n",
       "      <td>00:03:52</td>\n",
       "      <td>60-69</td>\n",
       "      <td>male</td>\n",
       "      <td>1</td>\n",
       "      <td>9</td>\n",
       "      <td>50</td>\n",
       "      <td>1</td>\n",
       "      <td>5</td>\n",
       "      <td>58</td>\n",
       "    </tr>\n",
       "    <tr>\n",
       "      <th>132</th>\n",
       "      <td>133</td>\n",
       "      <td>216</td>\n",
       "      <td>Elmar Sulk</td>\n",
       "      <td>40.0</td>\n",
       "      <td>Bethesda MD</td>\n",
       "      <td>6.40</td>\n",
       "      <td>1900-01-01 00:41:22</td>\n",
       "      <td>1900-01-01 00:42:28</td>\n",
       "      <td>00:01:06</td>\n",
       "      <td>40-49</td>\n",
       "      <td>male</td>\n",
       "      <td>0</td>\n",
       "      <td>42</td>\n",
       "      <td>28</td>\n",
       "      <td>0</td>\n",
       "      <td>41</td>\n",
       "      <td>22</td>\n",
       "    </tr>\n",
       "    <tr>\n",
       "      <th>439</th>\n",
       "      <td>440</td>\n",
       "      <td>2235</td>\n",
       "      <td>Barth Rau</td>\n",
       "      <td>48.0</td>\n",
       "      <td>Clarksville MD</td>\n",
       "      <td>7.45</td>\n",
       "      <td>1900-01-01 00:48:06</td>\n",
       "      <td>1900-01-01 00:51:45</td>\n",
       "      <td>00:03:39</td>\n",
       "      <td>40-49</td>\n",
       "      <td>male</td>\n",
       "      <td>0</td>\n",
       "      <td>51</td>\n",
       "      <td>45</td>\n",
       "      <td>0</td>\n",
       "      <td>48</td>\n",
       "      <td>6</td>\n",
       "    </tr>\n",
       "    <tr>\n",
       "      <th>309</th>\n",
       "      <td>310</td>\n",
       "      <td>1412</td>\n",
       "      <td>David Houser</td>\n",
       "      <td>55.0</td>\n",
       "      <td>Olney MD</td>\n",
       "      <td>7.20</td>\n",
       "      <td>1900-01-01 00:45:32</td>\n",
       "      <td>1900-01-01 00:46:37</td>\n",
       "      <td>00:01:05</td>\n",
       "      <td>50-59</td>\n",
       "      <td>male</td>\n",
       "      <td>0</td>\n",
       "      <td>46</td>\n",
       "      <td>37</td>\n",
       "      <td>0</td>\n",
       "      <td>45</td>\n",
       "      <td>32</td>\n",
       "    </tr>\n",
       "  </tbody>\n",
       "</table>\n",
       "</div>"
      ],
      "text/plain": [
       "     Place Number               Name   Age        Hometown   Pace  \\\n",
       "366    824   3279  Josephine Bouquet  14.0      Potomac MD  10.14   \n",
       "1170  1171   2479         Neil Small  64.0      Fairfax VA  10.37   \n",
       "132    133    216         Elmar Sulk  40.0     Bethesda MD   6.40   \n",
       "439    440   2235          Barth Rau  48.0  Clarksville MD   7.45   \n",
       "309    310   1412       David Houser  55.0        Olney MD   7.20   \n",
       "\n",
       "               Net_Time1           Gun_Time1 Gun_Net_Diff    Division  Gender  \\\n",
       "366  1900-01-01 01:03:31 1900-01-01 01:07:22     00:03:51  14 or less  female   \n",
       "1170 1900-01-01 01:05:58 1900-01-01 01:09:50     00:03:52       60-69    male   \n",
       "132  1900-01-01 00:41:22 1900-01-01 00:42:28     00:01:06       40-49    male   \n",
       "439  1900-01-01 00:48:06 1900-01-01 00:51:45     00:03:39       40-49    male   \n",
       "309  1900-01-01 00:45:32 1900-01-01 00:46:37     00:01:05       50-59    male   \n",
       "\n",
       "      g_hour  g_minute  g_second  n_hour  n_minute  n_second  \n",
       "366        1         7        22       1         3        31  \n",
       "1170       1         9        50       1         5        58  \n",
       "132        0        42        28       0        41        22  \n",
       "439        0        51        45       0        48         6  \n",
       "309        0        46        37       0        45        32  "
      ]
     },
     "execution_count": 5,
     "metadata": {},
     "output_type": "execute_result"
    }
   ],
   "source": [
    "#create time variables \n",
    "df_time['g_hour'] = df_time['Gun_Time1'].dt.hour\n",
    "df_time['g_minute'] = df_time['Gun_Time1'].dt.minute\n",
    "df_time['g_second'] = df_time['Gun_Time1'].dt.second\n",
    "\n",
    "df_time['n_hour'] = df_time['Net_Time1'].dt.hour\n",
    "df_time['n_minute'] = df_time['Net_Time1'].dt.minute\n",
    "df_time['n_second'] = df_time['Net_Time1'].dt.second\n",
    "\n",
    "df_time.sample(5)"
   ]
  },
  {
   "cell_type": "code",
   "execution_count": 6,
   "metadata": {},
   "outputs": [],
   "source": [
    "# Calculate time elapsed\n",
    "df_time['g_total_time'] = round(((df_time['g_hour']*60)+df_time['g_minute']+(df_time['g_second']/60)),2)\n",
    "df_time['n_total_time'] = round(((df_time['n_hour']*60)+df_time['n_minute']+(df_time['n_second']/60)),2)"
   ]
  },
  {
   "cell_type": "code",
   "execution_count": 7,
   "metadata": {
    "scrolled": true
   },
   "outputs": [
    {
     "data": {
      "image/png": "[encoded data removed]",
      "text/plain": [
       "<Figure size 630x504 with 1 Axes>"
      ]
     },
     "metadata": {},
     "output_type": "display_data"
    }
   ],
   "source": [
    "# Mode, range and IQR visualization of Guntime\n",
    "plt.rcParams['figure.figsize'] = (8.75, 7.0)\n",
    "ax = plt.axes()\n",
    "plot1 = sns.boxplot(data=df_time, x='Gender', y='g_total_time')\n",
    "ax.set_title(\"Gun time distribution by gender\")\n",
    "ax.set_ylabel('Time in minutes')\n",
    "ax.set_xlabel('Gender')\n",
    "sns.despine(offset=10, trim=True)\n",
    "plt.xticks(rotation=90)\n",
    "font = {'family' : 'normal',\n",
    "        'weight' : 'bold',\n",
    "        'size'   : 10}\n",
    "plt.rc('font', **font)\n",
    "plt.show()"
   ]
  },
  {
   "cell_type": "code",
   "execution_count": 8,
   "metadata": {},
   "outputs": [
    {
     "data": {
      "text/plain": [
       "(47.0, 61.12)"
      ]
     },
     "execution_count": 8,
     "metadata": {},
     "output_type": "execute_result"
    }
   ],
   "source": [
    "# calculate IQR for males in Guntime \n",
    "round(df_time[df_time['Gender']!='female']['g_total_time'].quantile(.25),2),round(df_time[df_time['Gender']!='female']['g_total_time'].quantile(.75),2)\n",
    "\n"
   ]
  },
  {
   "cell_type": "code",
   "execution_count": 9,
   "metadata": {},
   "outputs": [
    {
     "data": {
      "text/plain": [
       "54.3"
      ]
     },
     "execution_count": 9,
     "metadata": {},
     "output_type": "execute_result"
    }
   ],
   "source": [
    "# calculate median for males in Guntime \n",
    "round(df_time[df_time['Gender']!='female']['g_total_time'].quantile(.5),2)"
   ]
  },
  {
   "cell_type": "code",
   "execution_count": 10,
   "metadata": {},
   "outputs": [
    {
     "data": {
      "text/plain": [
       "55.22    5\n",
       "64.93    5\n",
       "60.18    4\n",
       "55.90    4\n",
       "63.30    4\n",
       "Name: g_total_time, dtype: int64"
      ]
     },
     "execution_count": 10,
     "metadata": {},
     "output_type": "execute_result"
    }
   ],
   "source": [
    "# calculate mode  for males in Guntime \n",
    "df_time[df_time['Gender']!='female']['g_total_time'].value_counts(ascending=False).head()\n",
    "      "
   ]
  },
  {
   "cell_type": "code",
   "execution_count": 11,
   "metadata": {},
   "outputs": [
    {
     "data": {
      "text/plain": [
       "61.78    5\n",
       "62.67    5\n",
       "62.70    4\n",
       "63.05    4\n",
       "59.02    4\n",
       "Name: g_total_time, dtype: int64"
      ]
     },
     "execution_count": 11,
     "metadata": {},
     "output_type": "execute_result"
    }
   ],
   "source": [
    "# calculate mode  for males in Guntime \n",
    "df_time[df_time['Gender']=='female']['g_total_time'].value_counts(ascending=False).head()"
   ]
  },
  {
   "cell_type": "code",
   "execution_count": 12,
   "metadata": {},
   "outputs": [
    {
     "data": {
      "text/plain": [
       "(54.92, 67.53)"
      ]
     },
     "execution_count": 12,
     "metadata": {},
     "output_type": "execute_result"
    }
   ],
   "source": [
    "# calculate IQR for females in Guntime \n",
    "round(df_time[df_time['Gender'] =='female']['g_total_time'].quantile(.25),2),round(df_time[df_time['Gender']=='female']['g_total_time'].quantile(.75),2)"
   ]
  },
  {
   "cell_type": "code",
   "execution_count": 13,
   "metadata": {},
   "outputs": [
    {
     "data": {
      "text/plain": [
       "(28.8, 104.12)"
      ]
     },
     "execution_count": 13,
     "metadata": {},
     "output_type": "execute_result"
    }
   ],
   "source": [
    "#minimum and maximum for Guntime for males \n",
    "round(df_time[df_time['Gender']!='female']['g_total_time'].min(),2),round(df_time[df_time['Gender']!='female']['g_total_time'].max(),2)"
   ]
  },
  {
   "cell_type": "code",
   "execution_count": 14,
   "metadata": {},
   "outputs": [
    {
     "data": {
      "text/plain": [
       "(32.98, 110.52)"
      ]
     },
     "execution_count": 14,
     "metadata": {},
     "output_type": "execute_result"
    }
   ],
   "source": [
    "#minimum and maximum for Guntime for females \n",
    "round(df_time[df_time['Gender']=='female']['g_total_time'].min(),2),round(df_time[df_time['Gender']=='female']['g_total_time'].max(),2)"
   ]
  },
  {
   "cell_type": "code",
   "execution_count": 15,
   "metadata": {
    "scrolled": false
   },
   "outputs": [
    {
     "data": {
      "image/png": "[encoded data removed]",
      "text/plain": [
       "<Figure size 630x504 with 1 Axes>"
      ]
     },
     "metadata": {},
     "output_type": "display_data"
    }
   ],
   "source": [
    "# Mode, range and IQR visualization of Nettime\n",
    "plt.rcParams['figure.figsize'] = (8.75, 7.0)\n",
    "ax = plt.axes()\n",
    "plot1 = sns.boxplot(data=df_time, x='Gender', y='n_total_time')\n",
    "ax.set_title(\"Net time distribution by gender\")\n",
    "ax.set_ylabel('Time in minutes')\n",
    "ax.set_xlabel('Gender')\n",
    "sns.despine(offset=10, trim=True)\n",
    "plt.xticks(rotation=90)\n",
    "font = {'family' : 'normal',\n",
    "        'weight' : 'bold',\n",
    "        'size'   : 12}\n",
    "plt.rc('font', **font)\n",
    "plt.show()"
   ]
  },
  {
   "cell_type": "code",
   "execution_count": 16,
   "metadata": {},
   "outputs": [
    {
     "data": {
      "text/plain": [
       "(52.22, 63.6)"
      ]
     },
     "execution_count": 16,
     "metadata": {},
     "output_type": "execute_result"
    }
   ],
   "source": [
    "# IQR for females in Nettime\n",
    "round(df_time[df_time['Gender'] =='female']['n_total_time'].quantile(.25),2),round(df_time[df_time['Gender']=='female']['n_total_time'].quantile(.75),2)"
   ]
  },
  {
   "cell_type": "code",
   "execution_count": 17,
   "metadata": {},
   "outputs": [
    {
     "data": {
      "text/plain": [
       "(45.68, 57.82)"
      ]
     },
     "execution_count": 17,
     "metadata": {},
     "output_type": "execute_result"
    }
   ],
   "source": [
    "# IQR for males in Nettime\n",
    "round(df_time[df_time['Gender']!='female']['n_total_time'].quantile(.25),2),round(df_time[df_time['Gender']!='female']['n_total_time'].quantile(.75),2)"
   ]
  },
  {
   "cell_type": "code",
   "execution_count": 18,
   "metadata": {},
   "outputs": [
    {
     "data": {
      "text/plain": [
       "(32.97, 106.82)"
      ]
     },
     "execution_count": 18,
     "metadata": {},
     "output_type": "execute_result"
    }
   ],
   "source": [
    "# minimum and maximum for Guntime for females \n",
    "round(df_time[df_time['Gender']=='female']['n_total_time'].min(),2),round(df_time[df_time['Gender']=='female']['n_total_time'].max(),2)"
   ]
  },
  {
   "cell_type": "code",
   "execution_count": 19,
   "metadata": {},
   "outputs": [
    {
     "data": {
      "text/plain": [
       "(28.78, 100.63)"
      ]
     },
     "execution_count": 19,
     "metadata": {},
     "output_type": "execute_result"
    }
   ],
   "source": [
    "# minimum and maximum for Net Time for males \n",
    "round(df_time[df_time['Gender']!='female']['n_total_time'].min(),2),round(df_time[df_time['Gender']!='female']['n_total_time'].max(),2)"
   ]
  },
  {
   "cell_type": "code",
   "execution_count": 20,
   "metadata": {},
   "outputs": [
    {
     "data": {
      "text/plain": [
       "51.37"
      ]
     },
     "execution_count": 20,
     "metadata": {},
     "output_type": "execute_result"
    }
   ],
   "source": [
    "# calculate median for males in Net time\n",
    "round(df_time[df_time['Gender']!='female']['n_total_time'].quantile(.5),2)"
   ]
  },
  {
   "cell_type": "code",
   "execution_count": null,
   "metadata": {},
   "outputs": [],
   "source": []
  },
  {
   "cell_type": "code",
   "execution_count": 21,
   "metadata": {},
   "outputs": [
    {
     "data": {
      "text/plain": [
       "57.82"
      ]
     },
     "execution_count": 21,
     "metadata": {},
     "output_type": "execute_result"
    }
   ],
   "source": [
    "# calculate mode for females in Net time\n",
    "round(df_time[df_time['Gender']=='female']['n_total_time'].quantile(.5),2)"
   ]
  },
  {
   "cell_type": "code",
   "execution_count": 22,
   "metadata": {
    "scrolled": false
   },
   "outputs": [
    {
     "data": {
      "text/plain": [
       "<matplotlib.axes._subplots.AxesSubplot at 0x1a1a01aa58>"
      ]
     },
     "execution_count": 22,
     "metadata": {},
     "output_type": "execute_result"
    },
    {
     "data": {
      "image/png": "[encoded data removed]",
      "text/plain": [
       "<Figure size 630x504 with 1 Axes>"
      ]
     },
     "metadata": {},
     "output_type": "display_data"
    }
   ],
   "source": [
    "# distribution of \n",
    "df_time[df_time['Gender']=='female']['g_total_time'].mode().plot(kind='bar')"
   ]
  },
  {
   "cell_type": "code",
   "execution_count": 23,
   "metadata": {},
   "outputs": [
    {
     "data": {
      "image/png": "[encoded data removed]",
      "text/plain": [
       "<Figure size 630x504 with 1 Axes>"
      ]
     },
     "metadata": {},
     "output_type": "display_data"
    }
   ],
   "source": [
    "# statistical distribution of mean for G\n",
    "plot1= df_time.groupby('Gender')['g_total_time'].agg([np.mean,np.median]).plot(kind='bar')\n",
    "plt.rcParams['figure.figsize'] = (8.75, 7.0)\n",
    "ax = plt.axes()\n",
    "ax.set_title(\"Gun time mean and median distribution by gender\")\n",
    "ax.set_ylabel('Time in minutes')\n",
    "ax.set_xlabel('Gender')\n",
    "sns.despine(offset=10, trim=True)\n",
    "plt.xticks(rotation=90)\n",
    "font = {'family' : 'normal',\n",
    "        'weight' : 'bold',\n",
    "        'size'   : 12}\n",
    "plt.rc('font', **font)\n",
    "plt.show()"
   ]
  },
  {
   "cell_type": "code",
   "execution_count": 24,
   "metadata": {},
   "outputs": [
    {
     "data": {
      "text/html": [
       "<div>\n",
       "<style scoped>\n",
       "    .dataframe tbody tr th:only-of-type {\n",
       "        vertical-align: middle;\n",
       "    }\n",
       "\n",
       "    .dataframe tbody tr th {\n",
       "        vertical-align: top;\n",
       "    }\n",
       "\n",
       "    .dataframe thead th {\n",
       "        text-align: right;\n",
       "    }\n",
       "</style>\n",
       "<table border=\"1\" class=\"dataframe\">\n",
       "  <thead>\n",
       "    <tr style=\"text-align: right;\">\n",
       "      <th></th>\n",
       "      <th>mean</th>\n",
       "      <th>median</th>\n",
       "    </tr>\n",
       "    <tr>\n",
       "      <th>Gender</th>\n",
       "      <th></th>\n",
       "      <th></th>\n",
       "    </tr>\n",
       "  </thead>\n",
       "  <tbody>\n",
       "    <tr>\n",
       "      <th>female</th>\n",
       "      <td>61.70</td>\n",
       "      <td>61.33</td>\n",
       "    </tr>\n",
       "    <tr>\n",
       "      <th>male</th>\n",
       "      <td>54.62</td>\n",
       "      <td>54.30</td>\n",
       "    </tr>\n",
       "  </tbody>\n",
       "</table>\n",
       "</div>"
      ],
      "text/plain": [
       "         mean  median\n",
       "Gender               \n",
       "female  61.70   61.33\n",
       "male    54.62   54.30"
      ]
     },
     "execution_count": 24,
     "metadata": {},
     "output_type": "execute_result"
    }
   ],
   "source": [
    "round(df_time.groupby('Gender')['g_total_time'].agg([np.mean,np.median]),2)"
   ]
  },
  {
   "cell_type": "code",
   "execution_count": 25,
   "metadata": {},
   "outputs": [
    {
     "data": {
      "image/png": "[encoded data removed]",
      "text/plain": [
       "<Figure size 630x504 with 1 Axes>"
      ]
     },
     "metadata": {},
     "output_type": "display_data"
    }
   ],
   "source": [
    "# statistical distribution of mean for Net Time\n",
    "plot1= df_time.groupby('Gender')['n_total_time'].agg([np.mean,np.median]).plot(kind='bar')\n",
    "plt.rcParams['figure.figsize'] = (8.75, 7.0)\n",
    "ax = plt.axes()\n",
    "ax.set_title(\"Net time mean and median distribution by gender\")\n",
    "ax.set_ylabel('Time in minutes')\n",
    "ax.set_xlabel('Gender')\n",
    "sns.despine(offset=10, trim=True)\n",
    "plt.xticks(rotation=90)\n",
    "font = {'family' : 'normal',\n",
    "        'weight' : 'bold',\n",
    "        'size'   : 12}\n",
    "plt.rc('font', **font)\n",
    "plt.show()"
   ]
  },
  {
   "cell_type": "code",
   "execution_count": 26,
   "metadata": {},
   "outputs": [
    {
     "data": {
      "text/html": [
       "<div>\n",
       "<style scoped>\n",
       "    .dataframe tbody tr th:only-of-type {\n",
       "        vertical-align: middle;\n",
       "    }\n",
       "\n",
       "    .dataframe tbody tr th {\n",
       "        vertical-align: top;\n",
       "    }\n",
       "\n",
       "    .dataframe thead th {\n",
       "        text-align: right;\n",
       "    }\n",
       "</style>\n",
       "<table border=\"1\" class=\"dataframe\">\n",
       "  <thead>\n",
       "    <tr style=\"text-align: right;\">\n",
       "      <th></th>\n",
       "      <th>mean</th>\n",
       "      <th>median</th>\n",
       "    </tr>\n",
       "    <tr>\n",
       "      <th>Gender</th>\n",
       "      <th></th>\n",
       "      <th></th>\n",
       "    </tr>\n",
       "  </thead>\n",
       "  <tbody>\n",
       "    <tr>\n",
       "      <th>female</th>\n",
       "      <td>58.45</td>\n",
       "      <td>57.82</td>\n",
       "    </tr>\n",
       "    <tr>\n",
       "      <th>male</th>\n",
       "      <td>52.12</td>\n",
       "      <td>51.37</td>\n",
       "    </tr>\n",
       "  </tbody>\n",
       "</table>\n",
       "</div>"
      ],
      "text/plain": [
       "         mean  median\n",
       "Gender               \n",
       "female  58.45   57.82\n",
       "male    52.12   51.37"
      ]
     },
     "execution_count": 26,
     "metadata": {},
     "output_type": "execute_result"
    }
   ],
   "source": [
    "round(df_time.groupby('Gender')['n_total_time'].agg([np.mean,np.median]),2)"
   ]
  },
  {
   "cell_type": "code",
   "execution_count": 27,
   "metadata": {},
   "outputs": [
    {
     "data": {
      "text/html": [
       "<div>\n",
       "<style scoped>\n",
       "    .dataframe tbody tr th:only-of-type {\n",
       "        vertical-align: middle;\n",
       "    }\n",
       "\n",
       "    .dataframe tbody tr th {\n",
       "        vertical-align: top;\n",
       "    }\n",
       "\n",
       "    .dataframe thead th {\n",
       "        text-align: right;\n",
       "    }\n",
       "</style>\n",
       "<table border=\"1\" class=\"dataframe\">\n",
       "  <thead>\n",
       "    <tr style=\"text-align: right;\">\n",
       "      <th></th>\n",
       "      <th>mean</th>\n",
       "      <th>median</th>\n",
       "    </tr>\n",
       "    <tr>\n",
       "      <th>Gender</th>\n",
       "      <th></th>\n",
       "      <th></th>\n",
       "    </tr>\n",
       "  </thead>\n",
       "  <tbody>\n",
       "    <tr>\n",
       "      <th>female</th>\n",
       "      <td>61.70</td>\n",
       "      <td>61.33</td>\n",
       "    </tr>\n",
       "    <tr>\n",
       "      <th>male</th>\n",
       "      <td>54.62</td>\n",
       "      <td>54.30</td>\n",
       "    </tr>\n",
       "  </tbody>\n",
       "</table>\n",
       "</div>"
      ],
      "text/plain": [
       "         mean  median\n",
       "Gender               \n",
       "female  61.70   61.33\n",
       "male    54.62   54.30"
      ]
     },
     "execution_count": 27,
     "metadata": {},
     "output_type": "execute_result"
    }
   ],
   "source": [
    "round(df_time.groupby('Gender')['g_total_time'].agg([np.mean,np.median]),2)"
   ]
  },
  {
   "cell_type": "code",
   "execution_count": 28,
   "metadata": {},
   "outputs": [
    {
     "data": {
      "text/plain": [
       "0.41"
      ]
     },
     "execution_count": 28,
     "metadata": {},
     "output_type": "execute_result"
    }
   ],
   "source": [
    "round(df_time[(df_time['Gender']=='male')&(df_time['g_total_time']<=61.70)].shape[0]/df_time.shape[0],2)"
   ]
  },
  {
   "cell_type": "code",
   "execution_count": 29,
   "metadata": {},
   "outputs": [
    {
     "data": {
      "text/plain": [
       "0.42"
      ]
     },
     "execution_count": 29,
     "metadata": {},
     "output_type": "execute_result"
    }
   ],
   "source": [
    "round(df_time[(df_time['Gender']=='male')&(df_time['n_total_time']<=58.45)].shape[0]/df_time.shape[0],2)"
   ]
  },
  {
   "cell_type": "code",
   "execution_count": 30,
   "metadata": {},
   "outputs": [
    {
     "data": {
      "text/plain": [
       "0.11"
      ]
     },
     "execution_count": 30,
     "metadata": {},
     "output_type": "execute_result"
    }
   ],
   "source": [
    "round(df_time[(df_time['Gender']=='female')&(df_time['g_total_time']<=54.62)].shape[0]/df_time.shape[0],2)"
   ]
  },
  {
   "cell_type": "code",
   "execution_count": 31,
   "metadata": {
    "scrolled": false
   },
   "outputs": [
    {
     "data": {
      "text/plain": [
       "0.12"
      ]
     },
     "execution_count": 31,
     "metadata": {},
     "output_type": "execute_result"
    }
   ],
   "source": [
    "round(df_time[(df_time['Gender']=='female')&(df_time['n_total_time']<=52.12)].shape[0]/df_time.shape[0],2)"
   ]
  },
  {
   "cell_type": "code",
   "execution_count": 32,
   "metadata": {},
   "outputs": [],
   "source": [
    "df_time.to_pickle('time.pkl')"
   ]
  }
 ],
 "metadata": {
  "kernelspec": {
   "display_name": "Python 3",
   "language": "python",
   "name": "python3"
  },
  "language_info": {
   "codemirror_mode": {
    "name": "ipython",
    "version": 3
   },
   "file_extension": ".py",
   "mimetype": "text/x-python",
   "name": "python",
   "nbconvert_exporter": "python",
   "pygments_lexer": "ipython3",
   "version": "3.6.5"
  }
 },
 "nbformat": 4,
 "nbformat_minor": 2
}
